{
 "cells": [
  {
   "cell_type": "markdown",
   "id": "bd30dbf8",
   "metadata": {},
   "source": [
    "# Initlisation"
   ]
  },
  {
   "cell_type": "code",
   "execution_count": 224,
   "id": "cb40ffc6",
   "metadata": {},
   "outputs": [],
   "source": [
    "import random\n",
    "from queue import PriorityQueue\n",
    "import numpy as np\n",
    "gridSize = 5 #Allows the gridsize to be changed\n",
    "board = []"
   ]
  },
  {
   "cell_type": "markdown",
   "id": "5f8625b6",
   "metadata": {},
   "source": [
    "# Visualisation"
   ]
  },
  {
   "cell_type": "code",
   "execution_count": 225,
   "id": "921669e7",
   "metadata": {},
   "outputs": [],
   "source": [
    "for row in range(gridSize):\n",
    "    board.append([])# appends an empty collumn after every row\n",
    "    for column in range(gridSize):\n",
    "        board[row].append(abs(int(random.normalvariate(mu = 0 , sigma = 5))))# for that wor it generates a random number based on the normal distribution"
   ]
  },
  {
   "cell_type": "code",
   "execution_count": 226,
   "id": "5bf916ae",
   "metadata": {},
   "outputs": [
    {
     "name": "stdout",
     "output_type": "stream",
     "text": [
      "4 2 0 5 4\n",
      "7 0 2 1 0\n",
      "2 2 10 1 4\n",
      "10 0 4 4 2\n",
      "2 5 5 6 4\n"
     ]
    }
   ],
   "source": [
    "lines= []\n",
    "for row in board:\n",
    "    lines.append(' '.join(str(x) for x in row))\n",
    "print('\\n'.join(lines))# cleanly outputs the array into human readable format\n",
    "    "
   ]
  },
  {
   "cell_type": "markdown",
   "id": "4ff2c4aa",
   "metadata": {},
   "source": [
    "# Hueristic Algorithm"
   ]
  },
  {
   "cell_type": "code",
   "execution_count": 235,
   "id": "90d09d11",
   "metadata": {},
   "outputs": [
    {
     "name": "stdout",
     "output_type": "stream",
     "text": [
      "4 \n",
      "4 2 0 2 40 2 1 0 42 0 40 45 5 5 4\n"
     ]
    }
   ],
   "source": [
    "start = board[0][0]\n",
    "route = \"\" + str(start) + \" \"\n",
    "end = board[gridSize-1][gridSize-1]\n",
    "print(route)\n",
    "stop = gridSize -1\n",
    "for row in range(gridSize):\n",
    "    for column in range(gridSize):\n",
    "        if row < stop:\n",
    "            right = board[row + 1][column]\n",
    "        if column < stop:\n",
    "            below = board[row][column+1]\n",
    "        if below == end or right == end:\n",
    "            route += str(end)\n",
    "            break\n",
    "        if right > below:\n",
    "            route += str(below) + \" \"\n",
    "        else:\n",
    "            route += str(right) + \" \"\n",
    "print(route)\n",
    "         "
   ]
  },
  {
   "cell_type": "markdown",
   "id": "c69c0f75",
   "metadata": {},
   "source": [
    "# Dijkstra's Algorithm"
   ]
  },
  {
   "cell_type": "code",
   "execution_count": 177,
   "id": "de4d81f1",
   "metadata": {},
   "outputs": [],
   "source": [
    "class Graph:\n",
    "\n",
    "    def __init__(self, num_of_vertices):\n",
    "        self.v = num_of_vertices\n",
    "        self.edges = [[-1 for i in range(num_of_vertices)] for j in range(num_of_vertices)]\n",
    "        self.visited = []\n",
    "        \n",
    "    def add_edge(self, u, v, weight):\n",
    "        self.edges[u][v] = weight\n",
    "        self.edges[v][u] = weight\n",
    "    \n",
    "        \n",
    "    def dijkstra(self, start_vertex):\n",
    "        D = {v:float('inf') for v in range(self.v)}\n",
    "        D[start_vertex] = 0\n",
    "\n",
    "        pq = PriorityQueue()\n",
    "        pq.put((0, start_vertex))\n",
    "\n",
    "        while not pq.empty():\n",
    "            (dist, current_vertex) = pq.get()\n",
    "            self.visited.append(current_vertex)\n",
    "\n",
    "            for neighbor in range(self.v):\n",
    "                if self.edges[current_vertex][neighbor] != -1:\n",
    "                    distance = self.edges[current_vertex][neighbor]\n",
    "                    if neighbor not in self.visited:\n",
    "                        old_cost = D[neighbor]\n",
    "                        new_cost = D[current_vertex] + distance\n",
    "                        if new_cost < old_cost:\n",
    "                            pq.put((new_cost, neighbor))\n",
    "                            D[neighbor] = new_cost\n",
    "        \n",
    "        return D\n"
   ]
  },
  {
   "cell_type": "markdown",
   "id": "195ef88a",
   "metadata": {},
   "source": [
    "# Adding Edges"
   ]
  },
  {
   "cell_type": "code",
   "execution_count": 178,
   "id": "8a30c71a",
   "metadata": {},
   "outputs": [],
   "source": [
    "g = Graph(gridSize)"
   ]
  },
  {
   "cell_type": "markdown",
   "id": "da8f1583",
   "metadata": {},
   "source": [
    "# Game 1(Difference is the weight)"
   ]
  },
  {
   "cell_type": "code",
   "execution_count": 183,
   "id": "038fe3f0",
   "metadata": {},
   "outputs": [],
   "source": [
    "for row in range(len(board)):\n",
    "    for column in range(len(board)):\n",
    "        if column < gridSize -1:\n",
    "            g.add_edge(row,column,abs(board[row][column]-board[row][column+1]))\n",
    "for row in range(len(board)):\n",
    "    for column in range(len(board)):\n",
    "        if row < gridSize -1:\n",
    "            g.add_edge(row,column,abs(board[row][column]-board[row+1][column]))\n",
    "            \n",
    "        \n",
    "\n"
   ]
  },
  {
   "cell_type": "markdown",
   "id": "264c113b",
   "metadata": {},
   "source": [
    "# Game 2(Cell value is the wight)"
   ]
  },
  {
   "cell_type": "code",
   "execution_count": null,
   "id": "a805f1f7",
   "metadata": {},
   "outputs": [],
   "source": [
    "for row in range(len(board)):\n",
    "    for column in range(len(board)):\n",
    "        if column < gridSize -1:\n",
    "            g.add_edge(row,column,board[row][column +1])\n",
    "for row in range(len(board)):\n",
    "    for column in range(len(board)):\n",
    "        if row < gridSize -1:\n",
    "            g.add_edge(row,column,board[row+1][column])\n",
    "            \n",
    "        \n",
    "\n"
   ]
  },
  {
   "cell_type": "markdown",
   "id": "fa60d2d5",
   "metadata": {},
   "source": [
    "# Running Dijkstra"
   ]
  },
  {
   "cell_type": "code",
   "execution_count": 180,
   "id": "8ca87829",
   "metadata": {},
   "outputs": [
    {
     "name": "stdout",
     "output_type": "stream",
     "text": [
      "Distance from vertex 0 to vertex 0 is 0\n",
      "Distance from vertex 0 to vertex 1 is 3\n",
      "Distance from vertex 0 to vertex 2 is 3\n",
      "Distance from vertex 0 to vertex 3 is 1\n",
      "Distance from vertex 0 to vertex 4 is 2\n"
     ]
    }
   ],
   "source": [
    "shortestpath = g.dijkstra(0)\n",
    "for vertex in range(len(shortestpath)):\n",
    "    print(\"Distance from vertex 0 to vertex\", vertex, \"is\", shortestpath[vertex])"
   ]
  },
  {
   "cell_type": "code",
   "execution_count": null,
   "id": "3b388092",
   "metadata": {},
   "outputs": [],
   "source": [
    "g.add_edge(1, 7, 20)\n",
    "g.add_edge(1, 2, 9)\n",
    "g.add_edge(2, 3, 6)\n",
    "g.add_edge(2, 4, 2)\n",
    "g.add_edge(3, 4, 10)\n",
    "g.add_edge(3, 5, 5)\n",
    "g.add_edge(4, 5, 15)\n",
    "g.add_edge(4, 7, 1)\n",
    "g.add_edge(4, 8, 5)\n",
    "g.add_edge(5, 8, 12)\n",
    "g.add_edge(6, 7, 1)\n",
    "g.add_edge(7, 8, 3)        "
   ]
  }
 ],
 "metadata": {
  "kernelspec": {
   "display_name": "Python 3 (ipykernel)",
   "language": "python",
   "name": "python3"
  },
  "language_info": {
   "codemirror_mode": {
    "name": "ipython",
    "version": 3
   },
   "file_extension": ".py",
   "mimetype": "text/x-python",
   "name": "python",
   "nbconvert_exporter": "python",
   "pygments_lexer": "ipython3",
   "version": "3.8.8"
  }
 },
 "nbformat": 4,
 "nbformat_minor": 5
}
