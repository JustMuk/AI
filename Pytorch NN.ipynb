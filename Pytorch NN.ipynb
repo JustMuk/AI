{
 "cells": [
  {
   "cell_type": "markdown",
   "metadata": {},
   "source": [
    "# Initialisation and imports"
   ]
  },
  {
   "cell_type": "code",
   "execution_count": 1,
   "metadata": {
    "scrolled": true
   },
   "outputs": [],
   "source": [
    "import os #Getting the Current Working Directory\n",
    "import warnings #Ability to create custom warnings, like warnings.warn(\"deprecated\", DeprecationWarning)\n",
    "\n",
    "\n",
    "import urllib.request#Allows to download the cifar dataset without ssl errors.\n",
    "import ssl\n",
    "\n",
    "# Date and Time \n",
    "import time\n",
    "from pytz import timezone\n",
    "from datetime import datetime\n",
    "\n",
    "import numpy as np\n",
    "\n",
    "\n",
    "\n",
    "\n",
    "#Metrics\n",
    "from sklearn.metrics import f1_score\n",
    "from sklearn.metrics import roc_auc_score\n",
    "from sklearn.metrics import confusion_matrix, ConfusionMatrixDisplay\n",
    "\n",
    "\n",
    "\n",
    "\n",
    "# ALlows us to produce Plots\n",
    "import matplotlib.pyplot as plt #Allows use of Pyplot plots\n",
    "\n",
    "import seaborn as sns #Allows use of Seaborn plots\n",
    "sns.set() #Sets default plot theme\n",
    "\n",
    "\n",
    "\n",
    "\n",
    "# Neural Network Libraries \n",
    "#General\n",
    "import torch\n",
    "import torch.nn as nn\n",
    "from torchinfo import summary\n",
    "\n",
    "#Images\n",
    "import torchvision #To load the dataset and get a numpy array\n",
    "\n",
    "\n",
    "gpuAvailable = torch.cuda.is_available()\n",
    "device = \"cuda\" if torch.cuda.is_available() else \"cpu\"\n",
    "\n",
    "\n",
    "\n",
    "### Useful functions ###\n",
    "def ZeroANumber(Number, maxLength, forceMaxLength = False):\n",
    "    res = str(Number).zfill(maxLength)\n",
    "    if forceMaxLength: res = res[:maxLength]\n",
    "    return res\n",
    "\n",
    "def SpaceAString(currentString, maxLength, SpaceTheFront = True, forceMaxLength = False, forceRemoveFont = False):\n",
    "    currentLength = len(currentString)\n",
    "    Result = currentString\n",
    "    \n",
    "    if currentLength < maxLength:\n",
    "        if SpaceTheFront:\n",
    "            Result = (\" \" * (maxLength-currentLength)) + currentString\n",
    "        else:\n",
    "            Result = currentString + (\" \" * (maxLength-currentLength))\n",
    "    elif currentLength > maxLength and forceMaxLength:\n",
    "        if forceRemoveFont:\n",
    "            Result = currentString[(currentLength - maxLength):]\n",
    "        else:\n",
    "            Result = currentString[:-(currentLength - maxLength)]\n",
    "    return Result\n",
    "\n",
    "\n"
   ]
  },
  {
   "cell_type": "markdown",
   "metadata": {},
   "source": [
    "# Data"
   ]
  },
  {
   "cell_type": "code",
   "execution_count": 2,
   "metadata": {},
   "outputs": [
    {
     "name": "stdout",
     "output_type": "stream",
     "text": [
      "C:\\Users\\dsxma\\Downloads/Data \n",
      "\n",
      "C:\\Users\\dsxma\\Downloads\n",
      "C:\\Users\\dsxma\\Downloads/Models \n",
      "\n"
     ]
    }
   ],
   "source": [
    "path_root = f\"{os.getcwd()}\"\n",
    "path_data = f\"{path_root}/Data\"\n",
    "path_models = f\"{path_root}/Models\"\n",
    "print(path_data, \"\\n\")\n",
    "print(path_root)\n",
    "print(path_models, \"\\n\")"
   ]
  },
  {
   "cell_type": "code",
   "execution_count": 3,
   "metadata": {
    "scrolled": false
   },
   "outputs": [
    {
     "name": "stdout",
     "output_type": "stream",
     "text": [
      "Files already downloaded and verified\n",
      "Files already downloaded and verified\n"
     ]
    }
   ],
   "source": [
    "Seed = 1337\n",
    "batch_size = 500\n",
    "\n",
    "#Downloading the CIFAR10 dataset using PyTorch's datasets\n",
    "#\"transforms.ToTensor()\" scales the data\n",
    "train_dataset = torchvision.datasets.CIFAR10(\n",
    "    root = f'{path_data}',\n",
    "    train = True,\n",
    "    download = True,\n",
    "    transform = torchvision.transforms.ToTensor() #this transformation returns the PyTorch tensors we need.\n",
    ")\n",
    "test_dataset = torchvision.datasets.CIFAR10(\n",
    "    root = f'{path_data}',\n",
    "    train = False,\n",
    "    download = True,\n",
    "    transform = torchvision.transforms.ToTensor() \n",
    ")\n",
    "train_loader = torch.utils.data.DataLoader(\n",
    "    dataset = train_dataset,\n",
    "    batch_size = batch_size,\n",
    "    shuffle = True\n",
    ")\n",
    "test_loader = torch.utils.data.DataLoader(\n",
    "    dataset = test_dataset,\n",
    "    batch_size = batch_size,\n",
    "    shuffle = False\n",
    ")\n",
    "\n",
    "ClassNames = train_dataset.classes            #Isolating the Classes\n",
    "tmpX, tmpY = next(iter(test_loader))\n",
    "\n",
    "#Printing information about the data\n",
    "N, C1, H1, W1 = tmpX.shape\n",
    "K = len(set(tmpY.cpu().numpy())) #Number of classes"
   ]
  },
  {
   "cell_type": "markdown",
   "metadata": {},
   "source": [
    "## Optimisation the network"
   ]
  },
  {
   "cell_type": "code",
   "execution_count": 4,
   "metadata": {},
   "outputs": [],
   "source": [
    "def AccCalculation(predictedY, targets):    \n",
    "    if isinstance(targets, torch.Tensor):\n",
    "        targets = targets.cpu().numpy()\n",
    "    \n",
    "    if isinstance(predictedY, torch.Tensor):\n",
    "        predictedY = predictedY.cpu().numpy()\n",
    "        \n",
    "    return np.mean(predictedY == targets)"
   ]
  },
  {
   "cell_type": "code",
   "execution_count": 5,
   "metadata": {},
   "outputs": [],
   "source": [
    "def AUCCalculation(targets, probabilityY, predictedY, Verbose = True):\n",
    "    if isinstance(targets, torch.Tensor):\n",
    "        targets = targets.cpu().numpy()\n",
    "    \n",
    "    if isinstance(probabilityY, torch.Tensor):\n",
    "        probabilityY = probabilityY.cpu().numpy()\n",
    "    \n",
    "    if isinstance(predictedY, torch.Tensor):\n",
    "        predictedY = predictedY.cpu().numpy()\n",
    "    \n",
    "    try:\n",
    "        CurMetric2 = roc_auc_score(targets, probabilityY, multi_class = \"ovr\", average = 'weighted') #Calculating Weighted AUC #Cares for performance both in Positives and Negatives (but may not fare well with heavy class imbalance)\n",
    "    except Exception as exc:\n",
    "        CurMetric2 = np.nan\n",
    "        if Verbose:\n",
    "            warnings.warn(\"An error has occures\")\n",
    "            print(\"AUC Warning. set(targets):\", list(set(targets.reshape(-1))), \"set(Outputs): \", list(set(predictedY.reshape(-1))))\n",
    "            \n",
    "    return CurMetric2"
   ]
  },
  {
   "cell_type": "code",
   "execution_count": 6,
   "metadata": {},
   "outputs": [],
   "source": [
    "def F1ScoreCalculation(targets, predictedY):\n",
    "    if isinstance(targets, torch.Tensor):\n",
    "        targets = targets.cpu().numpy()\n",
    "    \n",
    "    if isinstance(predictedY, torch.Tensor):\n",
    "        predictedY = predictedY.cpu().numpy()\n",
    "    \n",
    "    try:\n",
    "        CurMetric3 = f1_score(targets, predictedY, average = 'weighted') #Calculating Weighted F1 #Cares about balance between Precision and Recall (Sensitivity)\n",
    "    except Exception as exc:\n",
    "        CurMetric3 = np.nan\n",
    "        warnings.warn(f\"\\nAn error occurred in F1 score calculation (probably because of missing classes in the random batch of data?).\\nThe error reads: {exc}\")\n",
    "            \n",
    "    return CurMetric3"
   ]
  },
  {
   "cell_type": "code",
   "execution_count": 7,
   "metadata": {},
   "outputs": [],
   "source": [
    "def PrintIterationMetrics(it, epochs, t0, train_loss, test_loss, first_metric, first_metric_Name, second_metric, second_metric_Name, third_metric, third_metric_Name, MaxTrainLossLen, MaxTestLossLen, MaxMetric1Len, MaxMetric2Len, MaxMetric3Len):\n",
    "    dt = datetime.now() - t0\n",
    "\n",
    "    strTrainLoss = f\"{train_loss:.5f}\"\n",
    "    strTestLoss = f\"{test_loss:.5f}\"\n",
    "    strMetric1 = f'{first_metric:.4f}'\n",
    "    strMetric2 = f'{second_metric:.4f}'\n",
    "    strMetric3 = f'{third_metric:.4f}'\n",
    "    if it == 0:\n",
    "        MaxTrainLossLen = len(strTrainLoss)\n",
    "        MaxTestLossLen = len(strTestLoss)\n",
    "        MaxMetric1Len = len(strMetric1)\n",
    "        MaxMetric2Len = len(strMetric2)\n",
    "        MaxMetric3Len = len(strMetric3)\n",
    "    print(f'Epoch {ZeroANumber(it+1, len(str(epochs)))}/{epochs}, Train Loss: {SpaceAString(strTrainLoss, MaxTrainLossLen)}, Test Loss: {SpaceAString(strTestLoss, MaxTestLossLen)} | {first_metric_Name}: {SpaceAString(strMetric1, MaxMetric1Len)}, {second_metric_Name}: {SpaceAString(strMetric2, MaxMetric1Len)}, {third_metric_Name}: {SpaceAString(strMetric3, MaxMetric1Len)}, Duration: {dt}')\n",
    "    return MaxTrainLossLen, MaxTestLossLen, MaxMetric1Len, MaxMetric2Len, MaxMetric3Len"
   ]
  },
  {
   "cell_type": "code",
   "execution_count": 8,
   "metadata": {},
   "outputs": [],
   "source": [
    "def UpdateMetricsAndSaveModel(model, train_loss, test_loss, train_best_loss, test_best_loss, CurMetric1, Metric1, CurMetric2, Metric2, CurMetric3, Metric3):\n",
    "    if (test_loss < test_best_loss): #Saving the model if it outperforms previous iteration's model\n",
    "        test_best_loss = test_loss\n",
    "        train_best_loss = train_loss\n",
    "        torch.save(model.state_dict(), f\"model_dict.pt\") #Saving Model's Dictionary\n",
    "        \n",
    "        if np.isfinite(CurMetric1) and CurMetric1 >= Metric1:\n",
    "            Metric1 = CurMetric1\n",
    "            Metric2 = CurMetric2\n",
    "            Metric3 = CurMetric3\n",
    "            torch.save(model.state_dict(), f\"acc_model_dict.pt\") #Saving Model's Dictionary\n",
    "    return train_best_loss, test_best_loss, Metric1, Metric2, Metric3"
   ]
  },
  {
   "cell_type": "code",
   "execution_count": 9,
   "metadata": {},
   "outputs": [],
   "source": [
    "def PrintFinishingInformation(start_time, JustCalculateElapsedTime = False):\n",
    "    elapsed_time = time.time() - start_time\n",
    "    if not JustCalculateElapsedTime:\n",
    "        FinishedOn = datetime.now(timezone('Europe/Athens')).strftime(\"%a, %Y-%m-%d %H:%M %Z %z\")\n",
    "        print(\"\\nDone (\" + FinishedOn + \") Elapsed time: \" + str(round(elapsed_time, 1)) + \" seconds\")\n",
    "    \n",
    "    return elapsed_time"
   ]
  },
  {
   "cell_type": "code",
   "execution_count": 10,
   "metadata": {},
   "outputs": [],
   "source": [
    "def TrainModel(model, optimiser, criterion, X_Train, Y_Train, K):\n",
    "    model.train() #Putting model in training mode so that things like dropout() are activated again\n",
    "    \n",
    "    optimiser.zero_grad() #Initialisation of the gradient of θ\n",
    "    outputs = model(X_Train) #Getting the prediction using the forward direction of the Neural Net\n",
    "    \n",
    "    loss = criterion(outputs, Y_Train) #Calculating the loss according to the loss function\n",
    "    loss.backward() #Calculating the Gradient Δθ of the loss function with respect to the parameters\n",
    "    \n",
    "    optimiser.step() #Calculates and updates the parameters θ using gradient descent, as θ = θ - η*Δθ\n",
    "    \n",
    "    return optimiser, outputs, loss"
   ]
  },
  {
   "cell_type": "code",
   "execution_count": 11,
   "metadata": {},
   "outputs": [],
   "source": [
    "def EvaluateModel(model, criterion, Inputs, targets):\n",
    "    model.eval() #Putting model in evaluation mode so that things like dropout() are deactivated\n",
    "    with torch.no_grad(): #Making sure that we don't update the gradient outside the training part\n",
    "        probabiltyY = model(Inputs) #Getting the prediction using the forward direction of the Neural Net\n",
    "        \n",
    "        loss_scalar = criterion(probabiltyY, targets).item() #Calculating the loss according to the loss function\n",
    "\n",
    "        probabiltyY = nn.Softmax(dim = 1)(probabiltyY) #dim: every slice along dim will sum to 1\n",
    "        _, predictedY = torch.max(probabiltyY, 1) #Prediction. torch.max returns both max (value) and argmax (index)\n",
    "\n",
    "        CurMetric1, CurMetric2, CurMetric3 = GetCategoricalMetrics(probabiltyY, predictedY, targets)\n",
    "        \n",
    "        return probabiltyY, predictedY, loss_scalar, CurMetric1, CurMetric2, CurMetric3"
   ]
  },
  {
   "cell_type": "code",
   "execution_count": 12,
   "metadata": {},
   "outputs": [],
   "source": [
    "def EvalForwardPass(model, inputs, criterion = None, targets = None): #This is used at the very end on \"Evaluation\" Section. Unifies the forward pass, but doesn't calculate loss/metrics like EvaluateModel() does as we need greater granularity.\n",
    "    if targets is not None and criterion is None:\n",
    "        warnings.warn(f\"\\nTargets are present but loss cannot be calculated because criterion is None.\")  \n",
    "        \n",
    "    model.eval() #Putting model in evaluation mode so that things like dropout() are deactivated\n",
    "    with torch.no_grad(): #Making sure that we don't update the gradient outside the training part\n",
    "        probabilityY = model(inputs) #Getting the prediction using the forward direction of the Neural Net\n",
    "        \n",
    "        if targets is not None:\n",
    "            loss_scalar = criterion(probabilityY, targets).item() #Calculating the loss according to the loss function\n",
    "\n",
    "        probabilityY = nn.Softmax(dim = 1)(probabilityY) #dim: every slice along dim will sum to 1\n",
    "        _, predictedY = torch.max(probabilityY, 1) #Prediction. torch.max returns both max (value) and argmax (index)\n",
    "        \n",
    "    if targets is not None:\n",
    "        return probabilityY, predictedY, loss_scalar\n",
    "    else:\n",
    "        return probabilityY, predictedY"
   ]
  },
  {
   "cell_type": "code",
   "execution_count": 13,
   "metadata": {},
   "outputs": [],
   "source": [
    "def FixFormatAndDTypes(device, Inputs, targets):\n",
    "    if isinstance(Inputs, np.ndarray):\n",
    "        Inputs = torch.from_numpy(Inputs)\n",
    "    if isinstance(targets, np.ndarray):\n",
    "        targets = torch.from_numpy(targets)\n",
    "    \n",
    "    Inputs = Inputs.to(device)\n",
    "    targets = targets.to(device)\n",
    "    targets = targets.long()\n",
    "    \n",
    "    return Inputs, targets"
   ]
  },
  {
   "cell_type": "markdown",
   "metadata": {},
   "source": [
    "## Evaluation Functions"
   ]
  },
  {
   "cell_type": "code",
   "execution_count": 14,
   "metadata": {},
   "outputs": [],
   "source": [
    "def GetCategoricalMetrics(probabilityY, predictedY, targets):\n",
    "    test_Acc = AccCalculation(predictedY, targets)\n",
    "    test_AUC = AUCCalculation(targets, probabilityY, predictedY)\n",
    "    test_F1 = F1ScoreCalculation(targets, predictedY)\n",
    "    \n",
    "    return test_Acc, test_AUC, test_F1"
   ]
  },
  {
   "cell_type": "code",
   "execution_count": 15,
   "metadata": {},
   "outputs": [],
   "source": [
    "def PlotCategoricalMetrics(probabilityY, targets, ClassNames, normalise):\n",
    "    cm = confusion_matrix(targets, probabilityY)\n",
    "    plot_confusion_matrix(cm, ClassNames, normalise = normalise)"
   ]
  },
  {
   "cell_type": "code",
   "execution_count": 16,
   "metadata": {},
   "outputs": [],
   "source": [
    "def EvalPredict(model, test_batch_size, device, loaderOrX, testY):\n",
    "    Preds_prob = []\n",
    "    Preds = []\n",
    "    Targets = []\n",
    "    \n",
    "    for inputs, targets in loaderOrX:\n",
    "        inputs, targets = FixFormatAndDTypes(device, inputs, targets)\n",
    "        outputs_prob, outputs = EvalForwardPass(model, inputs)\n",
    "\n",
    "        Preds_prob.append(outputs_prob)\n",
    "        Preds.append(outputs)\n",
    "        Targets.append(targets)\n",
    "        \n",
    "    Preds_prob = torch.cat(Preds_prob).cpu().numpy()\n",
    "    Preds = torch.cat(Preds).cpu().numpy()\n",
    "    Targets = torch.cat(Targets).cpu().numpy()\n",
    "    \n",
    "    del inputs\n",
    "    del outputs_prob\n",
    "    del outputs\n",
    "    del targets\n",
    "    if IS_GPU_AVAILABLE:\n",
    "        torch.cuda.empty_cache()\n",
    "    \n",
    "    return Preds_prob, Preds, Targets"
   ]
  },
  {
   "cell_type": "markdown",
   "metadata": {},
   "source": [
    "## Architecture"
   ]
  },
  {
   "cell_type": "code",
   "execution_count": 17,
   "metadata": {},
   "outputs": [
    {
     "name": "stdout",
     "output_type": "stream",
     "text": [
      "Done\n"
     ]
    }
   ],
   "source": [
    "#Static\n",
    "class Net(nn.Module):\n",
    "    def __init__(self, H1, W1, K, activation, num_units, usebias, dropout, conv_filter_size, conv_stride, conv_padding, conv_dilation, conv_pool_size, conv_pool_dilation, conv_pool_stride, conv_pool_padding, ReluAlpha, EluAlpha):\n",
    "        super(Net, self).__init__()\n",
    "        self.conv_pool_size = conv_pool_size\n",
    "        self.usebias = usebias\n",
    "        self.dropout = dropout\n",
    "        self.K = K\n",
    "        self.conv_pool_dilation = conv_pool_dilation\n",
    "        self.conv_pool_stride = conv_pool_stride\n",
    "        self.H1 = H1\n",
    "        self.ReluAlpha = ReluAlpha\n",
    "        self.EluAlpha = EluAlpha\n",
    "        self.W1 = W1\n",
    "        self.conv_dilation = conv_dilation\n",
    "        self.activation = activation\n",
    "        self.num_units = num_units\n",
    "        self.conv_filter_size = conv_filter_size\n",
    "        self.conv_stride = conv_stride\n",
    "        self.conv_padding = conv_padding\n",
    "        \n",
    "        self.conv_pool_padding = conv_pool_padding\n",
    "       \n",
    "        \n",
    "        self.CNN_Layer = nn.ModuleList([\n",
    "            nn.Conv2d(in_channels = self.num_units[0], out_channels = self.num_units[1], kernel_size = self.conv_filter_size, stride = self.conv_stride, padding = self.conv_padding, dilation = self.conv_dilation, bias = self.usebias[0]),\n",
    "            self.GetActivationLayer(0),\n",
    "            nn.Dropout(p = self.dropout[0], inplace = False),\n",
    "            nn.MaxPool2d(kernel_size = self.conv_pool_size, dilation = self.conv_pool_dilation, stride = self.conv_pool_stride, padding = self.conv_pool_padding),\n",
    "            nn.Conv2d(in_channels = self.num_units[1], out_channels = self.num_units[1], kernel_size = self.conv_filter_size, stride = self.conv_stride, padding = self.conv_padding, dilation = self.conv_dilation, bias = self.usebias[0]),\n",
    "            self.GetActivationLayer(0),\n",
    "            nn.Dropout(p = self.dropout[0], inplace = False),\n",
    "            nn.MaxPool2d(kernel_size = self.conv_pool_size, dilation = self.conv_pool_dilation, stride = self.conv_pool_stride, padding = self.conv_pool_padding),\n",
    "            nn.Conv2d(in_channels = self.num_units[1], out_channels = self.num_units[1], kernel_size = self.conv_filter_size, stride = self.conv_stride, padding = self.conv_padding, dilation = self.conv_dilation, bias = self.usebias[0]),\n",
    "            self.GetActivationLayer(0),\n",
    "            nn.Dropout(p = self.dropout[0], inplace = False),\n",
    "            nn.MaxPool2d(kernel_size = self.conv_pool_size, dilation = self.conv_pool_dilation, stride = self.conv_pool_stride, padding = self.conv_pool_padding)\n",
    "        ])\n",
    "        \n",
    "        self.MLP_Layers = nn.ModuleList([\n",
    "            nn.Linear(in_features = int((((self.H1/self.conv_pool_size)/2)/2) * (((self.W1/self.conv_pool_size)/2)/2) * num_units[1]), out_features = self.num_units[2], bias = self.usebias[1]),\n",
    "            self.GetActivationLayer(1),\n",
    "            nn.Dropout(p = self.dropout[1], inplace = False),\n",
    "            nn.Linear(in_features = self.num_units[2], out_features = self.num_units[3], bias = self.usebias[2]),\n",
    "            self.GetActivationLayer(2),\n",
    "            nn.Dropout(p = self.dropout[2], inplace = False),\n",
    "            nn.Linear(in_features = self.num_units[3], out_features = self.num_units[4], bias = self.usebias[3]),\n",
    "            self.GetActivationLayer(3),\n",
    "            nn.Dropout(p = self.dropout[3], inplace = False),\n",
    "        ])\n",
    "        \n",
    "        self.Output_Layer = nn.ModuleList([\n",
    "            nn.Linear(in_features = self.num_units[-1], out_features = self.K, bias = self.usebias[-1])\n",
    "        ])\n",
    "        \n",
    "    def GetActivationLayer(self, layer):\n",
    "        Result = None\n",
    "        if (self.activation[layer] == \"relu\"):\n",
    "            if (self.ReluAlpha == 0):\n",
    "                Result = nn.ReLU()\n",
    "            else:\n",
    "                Result = self.layers.append(nn.LeakyReLU(negative_slope = self.ReluAlpha)) #alpha: Controls the angle of the negative slope\n",
    "        elif (self.activation[layer] == \"relu6\"):\n",
    "            Result = nn.ReLU6()\n",
    "        elif (self.activation[layer] == \"elu\"): # centred around 0, Similar to ReLu but values can be  negative,\n",
    "            Result = nn.ELU(alpha = self.EluAlpha) \n",
    "        elif (self.activation[layer] == \"tanh\"): #Does have a disappering gradient\n",
    "            Result = nn.Tanh()\n",
    "        elif (self.activation[layer] == \"sigmoid\"): #Suffers from Vanishing Gradient\n",
    "            Result = nn.Sigmoid() # Maximum derivative is a Quarter, Result isn't centred around 0.\n",
    "        return Result\n",
    "        \n",
    "    def forward(self, x):\n",
    "        print(f\"X: {x.shape}\") if Debug else None\n",
    "        \n",
    "        #Convolutional Layers\n",
    "        out = self.CNN_Layer[0](x)\n",
    "        print(f\"CNN Output: {out.shape}\") if Debug else None\n",
    "        out = self.CNN_Layer[1](out)\n",
    "        out = self.CNN_Layer[2](out)\n",
    "        out = self.CNN_Layer[3](out)\n",
    "        out = self.CNN_Layer[4](out)\n",
    "        out = self.CNN_Layer[5](out)\n",
    "        out = self.CNN_Layer[6](out)\n",
    "        out = self.CNN_Layer[7](out)\n",
    "        out = self.CNN_Layer[8](out)\n",
    "        out = self.CNN_Layer[9](out)\n",
    "        out = self.CNN_Layer[10](out)\n",
    "        out = self.CNN_Layer[11](out)\n",
    "        print(f\"Maxpool Output: {out.shape}\") if Debug else None\n",
    "        \n",
    "\n",
    "        out = out.view(out.shape[0], -1)\n",
    "        print(f\"Flatten's Output: {out.shape}\") if Debug else None\n",
    "        \n",
    "        #MLP \n",
    "        out = self.MLP_Layers[0](out)\n",
    "        print(f\"Dense 1 output: {out.shape}\") if Debug else None\n",
    "        out = self.MLP_Layers[1](out)\n",
    "        out = self.MLP_Layers[2](out)\n",
    "        out = self.MLP_Layers[3](out)\n",
    "        print(f\"Dense 2 output: {out.shape}\") if Debug else None\n",
    "        out = self.MLP_Layers[4](out)\n",
    "        out = self.MLP_Layers[5](out)\n",
    "        out = self.MLP_Layers[6](out)\n",
    "        print(f\"Dense 3 output: {out.shape}\") if Debug else None\n",
    "        out = self.MLP_Layers[7](out)\n",
    "        out = self.MLP_Layers[8](out)\n",
    "        \n",
    "        #Output layer\n",
    "        out = self.Output_Layer[0](out)\n",
    "        print(f\"Prediction: {out.shape}\") if Debug else None\n",
    "        \n",
    "        return out\n",
    "print(\"Done\")"
   ]
  },
  {
   "cell_type": "markdown",
   "metadata": {},
   "source": [
    "# Parametising the Network"
   ]
  },
  {
   "cell_type": "code",
   "execution_count": 18,
   "metadata": {
    "scrolled": false
   },
   "outputs": [],
   "source": [
    "ReluAlpha = 0 #0.01 for leakyRelu\n",
    "EluAlpha = 0.8\n",
    "\n",
    "conv_pool_size = 2 \n",
    "conv_pool_dilation = 1 \n",
    "conv_pool_stride = conv_pool_size \n",
    "conv_pool_padding = 0 \n",
    "\n",
    "conv_filter_size = 3\n",
    "conv_stride = 1\n",
    "conv_dilation = 1\n",
    "conv_padding = 1\n",
    "\n",
    "\n",
    "NUM = 1 \n",
    "num_units = [C1, 50, 200, 100, 50]\n",
    "num_units = [num_units[0], *[n_unit * NUM for n_unit in num_units[1:]]]\n",
    "activation = [\"relu\"] + [\"relu\"] * (len(num_units)-2)\n",
    "\n",
    "dropout    = [0.0] + [0.3] * (len(num_units)-2) \n",
    "usebias = [True] * (len(num_units)-1) + [True]\n",
    "l2_lamda = 0.1\n",
    "mu = 0.99\n"
   ]
  },
  {
   "cell_type": "markdown",
   "metadata": {},
   "source": [
    "## Optimisation"
   ]
  },
  {
   "cell_type": "markdown",
   "metadata": {},
   "source": [
    "### Structure"
   ]
  },
  {
   "cell_type": "code",
   "execution_count": 19,
   "metadata": {
    "scrolled": false
   },
   "outputs": [],
   "source": [
    "Debug = False\n",
    "model = Net(H1, W1, K, activation, num_units, usebias, dropout, conv_filter_size, conv_stride, conv_padding, conv_dilation, conv_pool_size, conv_pool_dilation, conv_pool_stride, conv_pool_padding, ReluAlpha, EluAlpha).to(device)\n",
    "\n",
    "train_losses = np.array([])\n",
    "test_losses = np.array([])\n",
    "train_best_loss = np.Inf\n",
    "test_best_loss = np.Inf\n",
    "Metric1 = 0 #Initialising as the worst possible value\n",
    "Metric2 = np.nan\n",
    "Metric3 = np.nan"
   ]
  },
  {
   "cell_type": "code",
   "execution_count": 20,
   "metadata": {},
   "outputs": [
    {
     "name": "stdout",
     "output_type": "stream",
     "text": [
      "Multiclass Classification\n"
     ]
    }
   ],
   "source": [
    "criterion = nn.CrossEntropyLoss() #Using Categorical Cross Entropy loss function\n",
    "print(\"Multiclass Classification\")\n",
    "\n",
    "learning_rate = 1e-3\n",
    "\n",
    "# optimiser = torch.optim.SGD(model.parameters(), lr = learning_rate, momentum = mu, nesterov = False, weight_decay = l2_lamda) #LR=0.01\n",
    "#Adam is fast, but tends to overfit\n",
    "# optimiser = torch.optim.Adam(model.parameters(), lr = learning_rate, betas = (mu, 0.999), weight_decay = l2_lamda, amsgrad = False) #LR=0.001 (0.9, 0.999)\n",
    "optimiser = torch.optim.AdamW(model.parameters(), lr = learning_rate, betas = (mu, 0.999), weight_decay = l2_lamda, amsgrad = False) #LR=0.001 (0.9, 0.999)"
   ]
  },
  {
   "cell_type": "markdown",
   "metadata": {},
   "source": [
    "### Stochastic Gradient Descent (Dataset)"
   ]
  },
  {
   "cell_type": "markdown",
   "metadata": {
    "heading_collapsed": true
   },
   "source": [
    "#### Function"
   ]
  },
  {
   "cell_type": "code",
   "execution_count": 21,
   "metadata": {
    "hidden": true,
    "scrolled": false
   },
   "outputs": [],
   "source": [
    "def batch_gd(model, criterion, optimiser, scheduler, train_loader, test_loader, Runs, printRuns, Verbose):\n",
    "    global train_best_loss \n",
    "    global Metric2 \n",
    "    global Metric3\n",
    "    global test_best_loss \n",
    "    global Metric1 \n",
    "     \n",
    "    MaxTrainLossLen, MaxTestLossLen, MaxMetric1Len, MaxMetric2Len, MaxMetric3Len = None, None, None, None, None #For output text formatting\n",
    "    \n",
    "    start_time = time.time() \n",
    "    model = model.to(device) \n",
    "    \n",
    "\n",
    "    #Initialise Loss\n",
    "    train_losses = np.zeros(Runs) \n",
    "    test_losses = np.zeros(Runs)  \n",
    "    for it in range(Runs):\n",
    "        t0 = datetime.now() \n",
    "        train_loss = [] \n",
    "        train_weights = []\n",
    "        \n",
    "        #Training the Network\n",
    "        for inputs, targets in train_loader:\n",
    "            inputs, targets = FixFormatAndDTypes(device, inputs, targets) #Making sure we have Tensors of the correct Format and Data Type\n",
    "            optimiser, outputs, loss = TrainModel(model, optimiser, criterion, inputs, targets, K) #Training the model on Train set\n",
    "            train_loss.append(loss.item())\n",
    "            train_weights.append(targets.shape[0])\n",
    "        train_loss = np.average(train_loss, weights = train_weights) #Weighted average based on number of samples #Alternatively we could add all Iteration Losses instead of 1 Epoch loss, but the array length will be higher than Validation's\n",
    "        \n",
    "        #Evaluating the network\n",
    "        test_loss = []\n",
    "        test_metric1 = []\n",
    "        test_metric2 = []\n",
    "        test_metric3 = []\n",
    "        test_weights = []\n",
    "        for inputs, targets in test_loader:\n",
    "            inputs, targets = FixFormatAndDTypes(device, inputs, targets) #Making sure we have Tensors of the correct Format and Data Type\n",
    "            _, _, cur_test_loss, cur_test_metric1, cur_test_metric2, cur_test_metric3 = EvaluateModel(model, criterion, inputs, targets) #Evaluating the model on Evaluation set\n",
    "            test_loss.append(cur_test_loss)\n",
    "            test_metric1.append(cur_test_metric1)\n",
    "            test_metric2.append(cur_test_metric2)\n",
    "            test_metric3.append(cur_test_metric3)\n",
    "            test_weights.append(targets.shape[0])\n",
    "\n",
    "\n",
    "        #Weights are determined by number of samples\n",
    "        test_loss = np.average(test_loss, weights = test_weights) \n",
    "        CurMetric1 = np.average(test_metric1, weights = test_weights) \n",
    "        CurMetric2 = np.average(test_metric2, weights = test_weights) \n",
    "        CurMetric3 = np.average(test_metric3, weights = test_weights)\n",
    "\n",
    "        if scheduler is not None:\n",
    "            scheduler.step()\n",
    "        \n",
    "        train_losses[it] = train_loss\n",
    "        test_losses[it] = test_loss\n",
    "\n",
    "\n",
    "        #Printing information about the Loss and metric\n",
    "        if (it + 1) % printRuns == 0 or it == 0 or it == Runs - 1: \n",
    "            MaxTrainLossLen, MaxTestLossLen, MaxMetric1Len, MaxMetric2Len, MaxMetric3Len = PrintIterationMetrics( #Prints Iteration Metrics\n",
    "                it, Runs, t0, train_loss, test_loss,\n",
    "                CurMetric1, \"Acc\",\n",
    "                CurMetric2, \"AUC\",\n",
    "                CurMetric3, \"F1\",\n",
    "                MaxTrainLossLen, MaxTestLossLen,\n",
    "                MaxMetric1Len, MaxMetric2Len, MaxMetric3Len\n",
    "            )\n",
    "        \n",
    "        train_best_loss, test_best_loss, Metric1, Metric2, Metric3 = UpdateMetricsAndSaveModel(model, train_loss, test_loss, train_best_loss, test_best_loss, CurMetric1, Metric1, CurMetric2, Metric2, CurMetric3, Metric3) #Updating Metrics and Saving the model if it outperforms previous iteration's model\n",
    "    \n",
    "    elapsed_time = PrintFinishingInformation(start_time, JustCalculateElapsedTime = False) #Prints finishing information\n",
    "    return train_losses, test_losses, train_best_loss, test_best_loss, Metric1, Metric2, Metric3, elapsed_time"
   ]
  },
  {
   "cell_type": "markdown",
   "metadata": {},
   "source": [
    "#### Procedure"
   ]
  },
  {
   "cell_type": "code",
   "execution_count": 22,
   "metadata": {
    "scrolled": false
   },
   "outputs": [
    {
     "name": "stdout",
     "output_type": "stream",
     "text": [
      "Epoch 001/100, Train Loss: 2.13121, Test Loss: 1.92965 | Acc: 0.2787, AUC: 0.7644, F1: 0.2156, Duration: 0:01:33.011483\n",
      "Epoch 002/100, Train Loss: 1.86470, Test Loss: 1.69665 | Acc: 0.3811, AUC: 0.8250, F1: 0.3482, Duration: 0:01:32.367495\n",
      "Epoch 003/100, Train Loss: 1.74391, Test Loss: 1.60651 | Acc: 0.4014, AUC: 0.8473, F1: 0.3837, Duration: 0:01:36.101063\n",
      "Epoch 004/100, Train Loss: 1.63132, Test Loss: 1.51197 | Acc: 0.4497, AUC: 0.8639, F1: 0.4327, Duration: 0:01:33.840324\n",
      "Epoch 005/100, Train Loss: 1.55735, Test Loss: 1.44546 | Acc: 0.4678, AUC: 0.8767, F1: 0.4553, Duration: 0:01:31.563794\n",
      "Epoch 006/100, Train Loss: 1.49116, Test Loss: 1.37088 | Acc: 0.4888, AUC: 0.8883, F1: 0.4739, Duration: 0:01:31.640961\n",
      "Epoch 007/100, Train Loss: 1.43850, Test Loss: 1.33364 | Acc: 0.5141, AUC: 0.8954, F1: 0.5056, Duration: 0:01:34.997896\n",
      "Epoch 008/100, Train Loss: 1.39300, Test Loss: 1.33017 | Acc: 0.5096, AUC: 0.8992, F1: 0.5084, Duration: 0:01:37.409754\n",
      "Epoch 009/100, Train Loss: 1.34787, Test Loss: 1.24738 | Acc: 0.5450, AUC: 0.9073, F1: 0.5353, Duration: 0:01:38.102308\n",
      "Epoch 010/100, Train Loss: 1.29222, Test Loss: 1.21179 | Acc: 0.5623, AUC: 0.9122, F1: 0.5543, Duration: 0:01:37.021145\n",
      "Epoch 011/100, Train Loss: 1.25907, Test Loss: 1.20830 | Acc: 0.5588, AUC: 0.9153, F1: 0.5570, Duration: 0:01:38.692376\n",
      "Epoch 012/100, Train Loss: 1.22865, Test Loss: 1.13175 | Acc: 0.5898, AUC: 0.9218, F1: 0.5842, Duration: 0:01:41.364019\n",
      "Epoch 013/100, Train Loss: 1.17214, Test Loss: 1.09066 | Acc: 0.6053, AUC: 0.9275, F1: 0.6039, Duration: 0:01:39.560202\n",
      "Epoch 014/100, Train Loss: 1.12903, Test Loss: 1.07745 | Acc: 0.6138, AUC: 0.9298, F1: 0.6001, Duration: 0:01:41.428768\n",
      "Epoch 015/100, Train Loss: 1.09390, Test Loss: 1.03325 | Acc: 0.6279, AUC: 0.9343, F1: 0.6254, Duration: 0:01:54.572402\n",
      "Epoch 016/100, Train Loss: 1.06212, Test Loss: 1.01515 | Acc: 0.6377, AUC: 0.9361, F1: 0.6323, Duration: 0:01:44.690850\n",
      "Epoch 017/100, Train Loss: 1.03405, Test Loss: 1.01135 | Acc: 0.6397, AUC: 0.9376, F1: 0.6321, Duration: 0:01:46.874976\n",
      "Epoch 018/100, Train Loss: 1.02581, Test Loss: 0.99723 | Acc: 0.6461, AUC: 0.9395, F1: 0.6379, Duration: 0:01:45.771536\n",
      "Epoch 019/100, Train Loss: 0.98088, Test Loss: 0.95316 | Acc: 0.6643, AUC: 0.9433, F1: 0.6638, Duration: 0:01:32.355218\n",
      "Epoch 020/100, Train Loss: 0.95049, Test Loss: 0.93927 | Acc: 0.6710, AUC: 0.9447, F1: 0.6698, Duration: 0:01:36.110789\n",
      "Epoch 021/100, Train Loss: 0.92489, Test Loss: 0.91742 | Acc: 0.6792, AUC: 0.9471, F1: 0.6799, Duration: 0:01:38.103621\n",
      "Epoch 022/100, Train Loss: 0.90707, Test Loss: 0.92552 | Acc: 0.6768, AUC: 0.9465, F1: 0.6704, Duration: 0:01:43.758513\n",
      "Epoch 023/100, Train Loss: 0.89201, Test Loss: 0.90997 | Acc: 0.6834, AUC: 0.9490, F1: 0.6803, Duration: 0:01:38.370845\n",
      "Epoch 024/100, Train Loss: 0.86211, Test Loss: 0.89228 | Acc: 0.6936, AUC: 0.9505, F1: 0.6906, Duration: 0:01:39.428137\n",
      "Epoch 025/100, Train Loss: 0.84812, Test Loss: 0.89186 | Acc: 0.6952, AUC: 0.9506, F1: 0.6921, Duration: 0:01:37.296780\n",
      "Epoch 026/100, Train Loss: 0.82934, Test Loss: 0.87625 | Acc: 0.6995, AUC: 0.9521, F1: 0.6961, Duration: 0:01:36.051382\n",
      "Epoch 027/100, Train Loss: 0.80736, Test Loss: 0.87834 | Acc: 0.7009, AUC: 0.9517, F1: 0.6958, Duration: 0:01:35.990143\n",
      "Epoch 028/100, Train Loss: 0.81057, Test Loss: 0.87685 | Acc: 0.6992, AUC: 0.9530, F1: 0.7011, Duration: 0:01:35.995457\n",
      "Epoch 029/100, Train Loss: 0.79069, Test Loss: 0.86384 | Acc: 0.7062, AUC: 0.9540, F1: 0.7058, Duration: 0:01:34.461756\n",
      "Epoch 030/100, Train Loss: 0.77162, Test Loss: 0.86091 | Acc: 0.7089, AUC: 0.9548, F1: 0.7072, Duration: 0:01:36.195220\n",
      "Epoch 031/100, Train Loss: 0.75045, Test Loss: 0.86380 | Acc: 0.7113, AUC: 0.9548, F1: 0.7088, Duration: 0:01:38.467718\n",
      "Epoch 032/100, Train Loss: 0.73647, Test Loss: 0.84129 | Acc: 0.7204, AUC: 0.9561, F1: 0.7197, Duration: 0:01:37.105805\n",
      "Epoch 033/100, Train Loss: 0.71154, Test Loss: 0.84441 | Acc: 0.7184, AUC: 0.9565, F1: 0.7189, Duration: 0:01:35.631505\n",
      "Epoch 034/100, Train Loss: 0.70157, Test Loss: 0.84213 | Acc: 0.7165, AUC: 0.9572, F1: 0.7167, Duration: 0:01:40.560766\n",
      "Epoch 035/100, Train Loss: 0.69392, Test Loss: 0.84902 | Acc: 0.7211, AUC: 0.9565, F1: 0.7200, Duration: 0:01:42.075484\n",
      "Epoch 036/100, Train Loss: 0.68293, Test Loss: 0.85942 | Acc: 0.7188, AUC: 0.9569, F1: 0.7185, Duration: 0:01:39.945779\n",
      "Epoch 037/100, Train Loss: 0.67606, Test Loss: 0.83261 | Acc: 0.7220, AUC: 0.9579, F1: 0.7212, Duration: 0:01:38.292565\n",
      "Epoch 038/100, Train Loss: 0.67026, Test Loss: 0.85149 | Acc: 0.7154, AUC: 0.9569, F1: 0.7151, Duration: 0:01:37.574189\n",
      "Epoch 039/100, Train Loss: 0.66526, Test Loss: 0.83248 | Acc: 0.7252, AUC: 0.9580, F1: 0.7237, Duration: 0:01:37.772988\n",
      "Epoch 040/100, Train Loss: 0.64024, Test Loss: 0.83990 | Acc: 0.7254, AUC: 0.9578, F1: 0.7232, Duration: 0:01:40.373972\n",
      "Epoch 041/100, Train Loss: 0.63174, Test Loss: 0.83535 | Acc: 0.7272, AUC: 0.9581, F1: 0.7246, Duration: 0:01:39.913761\n",
      "Epoch 042/100, Train Loss: 0.62630, Test Loss: 0.88373 | Acc: 0.7195, AUC: 0.9562, F1: 0.7169, Duration: 0:01:49.523640\n",
      "Epoch 043/100, Train Loss: 0.62531, Test Loss: 0.82638 | Acc: 0.7268, AUC: 0.9580, F1: 0.7252, Duration: 0:01:35.959042\n",
      "Epoch 044/100, Train Loss: 0.59889, Test Loss: 0.83408 | Acc: 0.7341, AUC: 0.9595, F1: 0.7328, Duration: 0:01:47.384964\n",
      "Epoch 045/100, Train Loss: 0.58621, Test Loss: 0.84961 | Acc: 0.7276, AUC: 0.9586, F1: 0.7258, Duration: 0:01:45.884683\n",
      "Epoch 046/100, Train Loss: 0.57404, Test Loss: 0.84067 | Acc: 0.7310, AUC: 0.9591, F1: 0.7306, Duration: 0:01:56.962629\n",
      "Epoch 047/100, Train Loss: 0.57083, Test Loss: 0.83806 | Acc: 0.7343, AUC: 0.9591, F1: 0.7330, Duration: 0:01:46.344372\n",
      "Epoch 048/100, Train Loss: 0.56124, Test Loss: 0.86575 | Acc: 0.7313, AUC: 0.9588, F1: 0.7318, Duration: 0:01:35.546619\n",
      "Epoch 049/100, Train Loss: 0.57535, Test Loss: 0.85648 | Acc: 0.7337, AUC: 0.9591, F1: 0.7335, Duration: 0:01:47.146735\n",
      "Epoch 050/100, Train Loss: 0.54978, Test Loss: 0.85177 | Acc: 0.7366, AUC: 0.9598, F1: 0.7360, Duration: 0:01:57.609135\n",
      "Epoch 051/100, Train Loss: 0.55472, Test Loss: 0.86230 | Acc: 0.7354, AUC: 0.9593, F1: 0.7343, Duration: 0:01:34.571623\n",
      "Epoch 052/100, Train Loss: 0.53878, Test Loss: 0.85219 | Acc: 0.7308, AUC: 0.9588, F1: 0.7299, Duration: 0:01:47.398281\n",
      "Epoch 053/100, Train Loss: 0.55024, Test Loss: 0.87965 | Acc: 0.7332, AUC: 0.9582, F1: 0.7338, Duration: 0:01:46.704368\n",
      "Epoch 054/100, Train Loss: 0.53688, Test Loss: 0.86455 | Acc: 0.7313, AUC: 0.9587, F1: 0.7305, Duration: 0:01:48.620482\n",
      "Epoch 055/100, Train Loss: 0.52115, Test Loss: 0.84999 | Acc: 0.7369, AUC: 0.9598, F1: 0.7357, Duration: 0:01:58.700275\n",
      "Epoch 056/100, Train Loss: 0.50747, Test Loss: 0.85156 | Acc: 0.7352, AUC: 0.9606, F1: 0.7361, Duration: 0:01:35.294930\n",
      "Epoch 057/100, Train Loss: 0.48607, Test Loss: 0.88601 | Acc: 0.7328, AUC: 0.9594, F1: 0.7339, Duration: 0:01:57.624454\n",
      "Epoch 058/100, Train Loss: 0.50000, Test Loss: 0.86967 | Acc: 0.7345, AUC: 0.9595, F1: 0.7323, Duration: 0:01:46.287788\n",
      "Epoch 059/100, Train Loss: 0.51009, Test Loss: 0.86726 | Acc: 0.7359, AUC: 0.9599, F1: 0.7358, Duration: 0:01:48.116046\n",
      "Epoch 060/100, Train Loss: 0.48336, Test Loss: 0.86625 | Acc: 0.7376, AUC: 0.9602, F1: 0.7374, Duration: 0:01:45.680161\n",
      "Epoch 061/100, Train Loss: 0.46289, Test Loss: 0.87846 | Acc: 0.7355, AUC: 0.9596, F1: 0.7342, Duration: 0:01:46.055757\n",
      "Epoch 062/100, Train Loss: 0.46760, Test Loss: 0.91354 | Acc: 0.7271, AUC: 0.9580, F1: 0.7263, Duration: 0:01:46.502942\n",
      "Epoch 063/100, Train Loss: 0.48015, Test Loss: 0.90682 | Acc: 0.7288, AUC: 0.9581, F1: 0.7295, Duration: 0:02:08.764894\n",
      "Epoch 064/100, Train Loss: 0.47294, Test Loss: 0.88390 | Acc: 0.7333, AUC: 0.9601, F1: 0.7323, Duration: 0:01:36.015415\n",
      "Epoch 065/100, Train Loss: 0.46528, Test Loss: 0.89850 | Acc: 0.7350, AUC: 0.9588, F1: 0.7347, Duration: 0:01:58.274603\n",
      "Epoch 066/100, Train Loss: 0.45759, Test Loss: 0.90242 | Acc: 0.7384, AUC: 0.9592, F1: 0.7355, Duration: 0:01:56.511029\n",
      "Epoch 067/100, Train Loss: 0.45891, Test Loss: 0.88780 | Acc: 0.7358, AUC: 0.9600, F1: 0.7352, Duration: 0:01:44.736997\n",
      "Epoch 068/100, Train Loss: 0.45852, Test Loss: 0.88357 | Acc: 0.7378, AUC: 0.9594, F1: 0.7355, Duration: 0:01:45.891394\n",
      "Epoch 069/100, Train Loss: 0.44583, Test Loss: 0.92454 | Acc: 0.7332, AUC: 0.9592, F1: 0.7311, Duration: 0:01:56.001688\n"
     ]
    },
    {
     "name": "stdout",
     "output_type": "stream",
     "text": [
      "Epoch 070/100, Train Loss: 0.44598, Test Loss: 0.91542 | Acc: 0.7310, AUC: 0.9595, F1: 0.7300, Duration: 0:01:47.312806\n",
      "Epoch 071/100, Train Loss: 0.46350, Test Loss: 0.92611 | Acc: 0.7295, AUC: 0.9583, F1: 0.7287, Duration: 0:01:58.631816\n",
      "Epoch 072/100, Train Loss: 0.46128, Test Loss: 0.88915 | Acc: 0.7383, AUC: 0.9592, F1: 0.7373, Duration: 0:01:55.774959\n",
      "Epoch 073/100, Train Loss: 0.44452, Test Loss: 0.90674 | Acc: 0.7319, AUC: 0.9596, F1: 0.7339, Duration: 0:01:46.145361\n",
      "Epoch 074/100, Train Loss: 0.44924, Test Loss: 0.92875 | Acc: 0.7324, AUC: 0.9586, F1: 0.7300, Duration: 0:01:57.015865\n",
      "Epoch 075/100, Train Loss: 0.44296, Test Loss: 0.89364 | Acc: 0.7351, AUC: 0.9600, F1: 0.7344, Duration: 0:01:45.571363\n",
      "Epoch 076/100, Train Loss: 0.43463, Test Loss: 0.95825 | Acc: 0.7258, AUC: 0.9576, F1: 0.7254, Duration: 0:01:57.368361\n",
      "Epoch 077/100, Train Loss: 0.43699, Test Loss: 0.91123 | Acc: 0.7281, AUC: 0.9582, F1: 0.7285, Duration: 0:01:45.831871\n",
      "Epoch 078/100, Train Loss: 0.42101, Test Loss: 0.90941 | Acc: 0.7389, AUC: 0.9597, F1: 0.7376, Duration: 0:01:57.123360\n",
      "Epoch 079/100, Train Loss: 0.40660, Test Loss: 0.91152 | Acc: 0.7421, AUC: 0.9602, F1: 0.7425, Duration: 0:01:56.113859\n",
      "Epoch 080/100, Train Loss: 0.40605, Test Loss: 0.93702 | Acc: 0.7378, AUC: 0.9600, F1: 0.7373, Duration: 0:01:46.442627\n",
      "Epoch 081/100, Train Loss: 0.40153, Test Loss: 0.92045 | Acc: 0.7332, AUC: 0.9596, F1: 0.7317, Duration: 0:01:45.691137\n",
      "Epoch 082/100, Train Loss: 0.39786, Test Loss: 0.92809 | Acc: 0.7368, AUC: 0.9595, F1: 0.7376, Duration: 0:01:45.239651\n",
      "Epoch 083/100, Train Loss: 0.42425, Test Loss: 0.94219 | Acc: 0.7275, AUC: 0.9575, F1: 0.7260, Duration: 0:01:56.546153\n",
      "Epoch 084/100, Train Loss: 0.41946, Test Loss: 0.92805 | Acc: 0.7397, AUC: 0.9590, F1: 0.7376, Duration: 0:01:46.505646\n",
      "Epoch 085/100, Train Loss: 0.42328, Test Loss: 0.92110 | Acc: 0.7353, AUC: 0.9590, F1: 0.7349, Duration: 0:01:46.103113\n",
      "Epoch 086/100, Train Loss: 0.41269, Test Loss: 0.96476 | Acc: 0.7284, AUC: 0.9581, F1: 0.7271, Duration: 0:01:57.021184\n",
      "Epoch 087/100, Train Loss: 0.40813, Test Loss: 0.95857 | Acc: 0.7310, AUC: 0.9583, F1: 0.7284, Duration: 0:01:56.577007\n",
      "Epoch 088/100, Train Loss: 0.39874, Test Loss: 0.95347 | Acc: 0.7324, AUC: 0.9587, F1: 0.7326, Duration: 0:01:44.972692\n",
      "Epoch 089/100, Train Loss: 0.39764, Test Loss: 0.98370 | Acc: 0.7313, AUC: 0.9582, F1: 0.7311, Duration: 0:01:56.647457\n",
      "Epoch 090/100, Train Loss: 0.38850, Test Loss: 0.96564 | Acc: 0.7324, AUC: 0.9582, F1: 0.7333, Duration: 0:01:56.458212\n",
      "Epoch 091/100, Train Loss: 0.39867, Test Loss: 0.95653 | Acc: 0.7369, AUC: 0.9590, F1: 0.7343, Duration: 0:01:44.680198\n",
      "Epoch 092/100, Train Loss: 0.38727, Test Loss: 0.94653 | Acc: 0.7308, AUC: 0.9585, F1: 0.7285, Duration: 0:01:58.200720\n",
      "Epoch 093/100, Train Loss: 0.39346, Test Loss: 0.92741 | Acc: 0.7374, AUC: 0.9602, F1: 0.7372, Duration: 0:01:45.535811\n",
      "Epoch 094/100, Train Loss: 0.37319, Test Loss: 0.98766 | Acc: 0.7347, AUC: 0.9589, F1: 0.7345, Duration: 0:01:46.140556\n",
      "Epoch 095/100, Train Loss: 0.38953, Test Loss: 1.00000 | Acc: 0.7292, AUC: 0.9566, F1: 0.7293, Duration: 0:01:56.934879\n",
      "Epoch 096/100, Train Loss: 0.38649, Test Loss: 0.97795 | Acc: 0.7313, AUC: 0.9587, F1: 0.7292, Duration: 0:01:46.638672\n",
      "Epoch 097/100, Train Loss: 0.37924, Test Loss: 0.95089 | Acc: 0.7349, AUC: 0.9590, F1: 0.7344, Duration: 0:01:45.002582\n",
      "Epoch 098/100, Train Loss: 0.37813, Test Loss: 0.95741 | Acc: 0.7310, AUC: 0.9587, F1: 0.7304, Duration: 0:01:56.236526\n",
      "Epoch 099/100, Train Loss: 0.38591, Test Loss: 0.96168 | Acc: 0.7356, AUC: 0.9588, F1: 0.7364, Duration: 0:01:56.660858\n",
      "Epoch 100/100, Train Loss: 0.37790, Test Loss: 0.94931 | Acc: 0.7326, AUC: 0.9585, F1: 0.7319, Duration: 0:01:56.053187\n",
      "\n",
      "Done (Fri, 2021-12-31 08:47 EET +0200) Elapsed time: 10518.4 seconds\n",
      "\n",
      "train_best_loss: 0.6253094428777695 test_best_loss: 0.826377335190773 Acc: 0.7268 AUC: 0.9580184815179333 F1: 0.725179342981667\n"
     ]
    }
   ],
   "source": [
    "GDType = \"stochastic\"\n",
    "Debug = False\n",
    "Runs = int(100)\n",
    "PrintInfoEverynEpochs = 20\n",
    "scheduler = None #torch.optim.lr_scheduler.StepLR(optimiser, step_size = Runs // 10 if Runs > 10 else 3, gamma = 0.8)\n",
    "\n",
    "new_train_losses, new_test_losses, train_best_loss, test_best_loss, Metric1, Metric2, Metric3, elapsed_time = batch_gd(model, criterion, optimiser, scheduler, train_loader, test_loader, epochs = Runs, PrintInfoEverynEpochs = PrintInfoEverynEpochs, Verbose = False)\n",
    "train_losses = np.append(train_losses, new_train_losses)\n",
    "test_losses = np.append(test_losses, new_test_losses)\n",
    "train_loss = train_losses[-1]\n",
    "test_loss = test_losses[-1]\n",
    "print(\"\\ntrain_best_loss:\", train_best_loss, \"test_best_loss:\", test_best_loss, \"Acc:\", Metric1, \"AUC:\", Metric2, \"F1:\", Metric3)\n",
    "torch.cuda.empty_cache()"
   ]
  },
  {
   "cell_type": "markdown",
   "metadata": {},
   "source": [
    "# Evaluation"
   ]
  },
  {
   "cell_type": "markdown",
   "metadata": {},
   "source": [
    "## Multiclass Classification"
   ]
  },
  {
   "cell_type": "code",
   "execution_count": 24,
   "metadata": {},
   "outputs": [
    {
     "data": {
      "image/png": "[encoded data removed]",
      "text/plain": [
       "<Figure size 432x288 with 1 Axes>"
      ]
     },
     "metadata": {},
     "output_type": "display_data"
    }
   ],
   "source": [
    "plt.plot(train_losses, label = f\"Train Loss\")\n",
    "plt.plot(test_losses, label = f\"Validation Loss\")\n",
    "plt.legend()\n",
    "plt.show()"
   ]
  },
  {
   "cell_type": "code",
   "execution_count": 25,
   "metadata": {},
   "outputs": [
    {
     "name": "stdout",
     "output_type": "stream",
     "text": [
      "Overall Acc: 73.26%. AUC: 0.96, F1: 0.73\n"
     ]
    },
    {
     "data": {
      "image/png": "[encoded data removed]",
      "text/plain": [
       "<Figure size 432x288 with 2 Axes>"
      ]
     },
     "metadata": {},
     "output_type": "display_data"
    }
   ],
   "source": [
    "test_batch_size = batch_size #We *can* have a larger batch size on evaluation as we don't need any extra RAM for gradients calculation\n",
    "\n",
    "model.eval() #Putting model in evaluation mode so that things like dropout() are deactivated\n",
    "with torch.no_grad(): #Making sure that we don't update the gradient outside the training part\n",
    "    model = model.to(device) #Moving the model to the appropriate device (CPU/CUDA/etc.)\n",
    "    \n",
    "    #Using the Forward direction of the model to get the Predictions (also returning the corresponding targ\n",
    "    Preds_prob, Preds, targets = EvalPredict(model, test_batch_size, device, test_loader if \"test_loader\" in locals() or \"test_loader\" in globals() else X_Test, Y_Test if \"Y_Test\" in locals() or \"Y_Test\" in globals() else None)\n",
    "    \n",
    "    #Calculating evaluation metrics\n",
    "    test_Acc, test_AUC, test_F1 = GetCategoricalMetrics(Preds_prob, Preds, targets)\n",
    "    print(f'Overall Acc: {test_Acc * 100:.2f}%. AUC: {test_AUC:.2f}, F1: {test_F1:.2f}')\n",
    "    \n",
    "    #Plotting the confusion matrix\n",
    "    ConfusionMatrixDisplay(confusion_matrix(targets, Preds), display_labels = ClassNames).plot()\n",
    "    plt.show()"
   ]
  },
  {
   "cell_type": "markdown",
   "metadata": {},
   "source": [
    "# Different Parameters 2"
   ]
  },
  {
   "cell_type": "code",
   "execution_count": 26,
   "metadata": {},
   "outputs": [
    {
     "name": "stdout",
     "output_type": "stream",
     "text": [
      "nPadding: 1\n",
      "num_units [3, 50, 200, 100, 50]\n"
     ]
    }
   ],
   "source": [
    "conv_filter_size = 3\n",
    "conv_stride = 1\n",
    "conv_dilation = 1\n",
    "conv_padding = 1\n",
    "\n",
    "conv_pool_size = 2 #Def 2\n",
    "conv_pool_dilation = 1 \n",
    "conv_pool_stride = conv_pool_size \n",
    "conv_pool_padding = 0  \n",
    "\n",
    "ReluAlpha = 0 #0.01 def leakyRelu\n",
    "EluAlpha = 0.8\n",
    "\n",
    "NUM = 1 #Multiply num_units by\n",
    "num_units = [C1, 50, 200, 100, 50]\n",
    "num_units = [num_units[0], *[n_unit * NUM for n_unit in num_units[1:]]]\n",
    "\n",
    "activation = [\"relu\"] + [\"relu\"] * (len(num_units)-2) #None, \"relu6\" \"relu\", \"elu\", \"tanh\", \"sigmoid\"\n",
    "\n",
    "dropout    = [0.3] + [0.3] * (len(num_units)-2) #Might be a bad idea on CNN as we're trying to find patterns\n",
    "\n",
    "usebias = [True] * (len(num_units)-1) + [True]\n",
    "\n",
    "l2_lamda = 0.1\n",
    "mu = 0.99 \n",
    "\n",
    "\n"
   ]
  },
  {
   "cell_type": "code",
   "execution_count": 27,
   "metadata": {},
   "outputs": [],
   "source": [
    "Debug = False\n",
    "model = Net(H1, W1, K, activation, num_units, usebias, dropout, conv_filter_size, conv_stride, conv_padding, conv_dilation, conv_pool_size, conv_pool_dilation, conv_pool_stride, conv_pool_padding, ReluAlpha, EluAlpha).to(device)\n",
    "model = nn.DataParallel(model)\n",
    "\n",
    "train_losses = np.array([])\n",
    "test_losses = np.array([])\n",
    "train_best_loss = np.Inf\n",
    "test_best_loss = np.Inf\n",
    "Metric1 = 0 #Initialising as the worst possible value\n",
    "Metric2 = np.nan\n",
    "Metric3 = np.nan"
   ]
  },
  {
   "cell_type": "code",
   "execution_count": 28,
   "metadata": {},
   "outputs": [],
   "source": [
    "criterion = nn.CrossEntropyLoss() #Using Categorical Cross Entropy loss function\n",
    "learning_rate = 1e-3\n",
    "optimiser = torch.optim.AdamW(model.parameters(), lr = learning_rate, betas = (mu, 0.999), weight_decay = l2_lamda, amsgrad = False)"
   ]
  },
  {
   "cell_type": "code",
   "execution_count": 29,
   "metadata": {
    "scrolled": false
   },
   "outputs": [
    {
     "name": "stdout",
     "output_type": "stream",
     "text": [
      "Epoch 001/100, Train Loss: 2.12106, Test Loss: 1.99731 | Acc: 0.3118, AUC: 0.7766, F1: 0.2698, Duration: 0:02:49.949923\n",
      "Epoch 002/100, Train Loss: 1.84158, Test Loss: 1.84069 | Acc: 0.3613, AUC: 0.8108, F1: 0.3380, Duration: 0:03:01.770383\n",
      "Epoch 003/100, Train Loss: 1.73089, Test Loss: 1.76703 | Acc: 0.4051, AUC: 0.8332, F1: 0.3853, Duration: 0:02:52.851432\n",
      "Epoch 004/100, Train Loss: 1.63328, Test Loss: 1.67558 | Acc: 0.4378, AUC: 0.8569, F1: 0.4250, Duration: 0:02:48.415673\n",
      "Epoch 005/100, Train Loss: 1.55620, Test Loss: 1.61981 | Acc: 0.4720, AUC: 0.8710, F1: 0.4660, Duration: 0:03:09.005359\n",
      "Epoch 006/100, Train Loss: 1.48694, Test Loss: 1.54891 | Acc: 0.5032, AUC: 0.8837, F1: 0.5011, Duration: 0:03:08.802177\n",
      "Epoch 007/100, Train Loss: 1.42806, Test Loss: 1.48642 | Acc: 0.5131, AUC: 0.8923, F1: 0.5121, Duration: 0:02:49.978296\n",
      "Epoch 008/100, Train Loss: 1.36376, Test Loss: 1.42233 | Acc: 0.5305, AUC: 0.9010, F1: 0.5236, Duration: 0:02:51.107526\n",
      "Epoch 009/100, Train Loss: 1.33208, Test Loss: 1.42417 | Acc: 0.5191, AUC: 0.9033, F1: 0.5166, Duration: 0:02:58.123288\n",
      "Epoch 010/100, Train Loss: 1.29201, Test Loss: 1.33296 | Acc: 0.5776, AUC: 0.9146, F1: 0.5796, Duration: 0:03:17.855775\n",
      "Epoch 011/100, Train Loss: 1.23494, Test Loss: 1.26213 | Acc: 0.5962, AUC: 0.9200, F1: 0.5976, Duration: 0:03:08.698487\n",
      "Epoch 012/100, Train Loss: 1.19992, Test Loss: 1.31455 | Acc: 0.5559, AUC: 0.9181, F1: 0.5636, Duration: 0:03:09.003635\n",
      "Epoch 013/100, Train Loss: 1.16763, Test Loss: 1.21628 | Acc: 0.5995, AUC: 0.9262, F1: 0.6048, Duration: 0:03:20.646200\n",
      "Epoch 014/100, Train Loss: 1.13532, Test Loss: 1.19413 | Acc: 0.6065, AUC: 0.9297, F1: 0.6094, Duration: 0:03:18.093196\n",
      "Epoch 015/100, Train Loss: 1.11144, Test Loss: 1.19274 | Acc: 0.6076, AUC: 0.9303, F1: 0.6138, Duration: 0:03:20.280941\n",
      "Epoch 016/100, Train Loss: 1.09141, Test Loss: 1.17354 | Acc: 0.6114, AUC: 0.9323, F1: 0.6064, Duration: 0:02:50.965269\n",
      "Epoch 017/100, Train Loss: 1.07104, Test Loss: 1.12727 | Acc: 0.6217, AUC: 0.9361, F1: 0.6260, Duration: 0:03:02.997557\n",
      "Epoch 018/100, Train Loss: 1.03579, Test Loss: 1.10974 | Acc: 0.6258, AUC: 0.9368, F1: 0.6274, Duration: 0:02:51.290573\n",
      "Epoch 019/100, Train Loss: 1.01588, Test Loss: 1.07112 | Acc: 0.6444, AUC: 0.9410, F1: 0.6504, Duration: 0:02:49.104504\n",
      "Epoch 020/100, Train Loss: 0.99373, Test Loss: 1.06708 | Acc: 0.6538, AUC: 0.9418, F1: 0.6621, Duration: 0:02:50.136472\n",
      "Epoch 021/100, Train Loss: 0.97243, Test Loss: 1.05814 | Acc: 0.6464, AUC: 0.9426, F1: 0.6476, Duration: 0:02:53.468816\n",
      "Epoch 022/100, Train Loss: 0.95506, Test Loss: 1.02961 | Acc: 0.6561, AUC: 0.9464, F1: 0.6543, Duration: 0:02:49.155322\n",
      "Epoch 023/100, Train Loss: 0.94402, Test Loss: 1.02755 | Acc: 0.6559, AUC: 0.9473, F1: 0.6590, Duration: 0:02:50.138391\n",
      "Epoch 024/100, Train Loss: 0.92816, Test Loss: 1.01374 | Acc: 0.6627, AUC: 0.9468, F1: 0.6661, Duration: 0:02:49.802253\n",
      "Epoch 025/100, Train Loss: 0.91434, Test Loss: 1.03038 | Acc: 0.6576, AUC: 0.9462, F1: 0.6629, Duration: 0:02:49.663593\n",
      "Epoch 026/100, Train Loss: 0.91023, Test Loss: 0.97436 | Acc: 0.6773, AUC: 0.9505, F1: 0.6807, Duration: 0:02:49.205591\n",
      "Epoch 027/100, Train Loss: 0.88408, Test Loss: 0.98556 | Acc: 0.6683, AUC: 0.9509, F1: 0.6686, Duration: 0:03:25.683545\n",
      "Epoch 028/100, Train Loss: 0.88097, Test Loss: 1.00285 | Acc: 0.6720, AUC: 0.9499, F1: 0.6754, Duration: 0:03:42.343289\n",
      "Epoch 029/100, Train Loss: 0.86093, Test Loss: 0.94180 | Acc: 0.6857, AUC: 0.9531, F1: 0.6898, Duration: 0:03:41.142487\n",
      "Epoch 030/100, Train Loss: 0.84350, Test Loss: 0.93309 | Acc: 0.6888, AUC: 0.9534, F1: 0.6931, Duration: 0:03:26.066628\n",
      "Epoch 031/100, Train Loss: 0.83674, Test Loss: 0.90562 | Acc: 0.6939, AUC: 0.9555, F1: 0.6904, Duration: 0:02:48.983608\n",
      "Epoch 032/100, Train Loss: 0.84843, Test Loss: 0.96959 | Acc: 0.6821, AUC: 0.9500, F1: 0.6898, Duration: 0:03:00.035343\n",
      "Epoch 033/100, Train Loss: 0.84494, Test Loss: 0.93026 | Acc: 0.6907, AUC: 0.9549, F1: 0.6927, Duration: 0:02:59.252437\n",
      "Epoch 034/100, Train Loss: 0.81244, Test Loss: 0.86150 | Acc: 0.7168, AUC: 0.9596, F1: 0.7203, Duration: 0:02:59.408299\n",
      "Epoch 035/100, Train Loss: 0.79756, Test Loss: 0.89884 | Acc: 0.7004, AUC: 0.9567, F1: 0.7041, Duration: 0:02:46.532325\n",
      "Epoch 036/100, Train Loss: 0.79817, Test Loss: 0.89125 | Acc: 0.6988, AUC: 0.9565, F1: 0.7001, Duration: 0:02:46.913821\n",
      "Epoch 037/100, Train Loss: 0.79320, Test Loss: 0.89709 | Acc: 0.7006, AUC: 0.9559, F1: 0.7015, Duration: 0:02:50.363389\n",
      "Epoch 038/100, Train Loss: 0.79885, Test Loss: 0.88755 | Acc: 0.7120, AUC: 0.9581, F1: 0.7158, Duration: 0:02:50.384641\n",
      "Epoch 039/100, Train Loss: 0.77912, Test Loss: 0.88675 | Acc: 0.7070, AUC: 0.9572, F1: 0.7113, Duration: 0:02:50.469743\n",
      "Epoch 040/100, Train Loss: 0.78192, Test Loss: 0.90749 | Acc: 0.7098, AUC: 0.9568, F1: 0.7145, Duration: 0:03:02.306570\n",
      "Epoch 041/100, Train Loss: 0.76993, Test Loss: 0.83064 | Acc: 0.7252, AUC: 0.9615, F1: 0.7262, Duration: 0:03:01.372911\n",
      "Epoch 042/100, Train Loss: 0.76220, Test Loss: 0.80136 | Acc: 0.7300, AUC: 0.9632, F1: 0.7315, Duration: 0:03:07.032331\n",
      "Epoch 043/100, Train Loss: 0.74654, Test Loss: 0.85462 | Acc: 0.7203, AUC: 0.9604, F1: 0.7248, Duration: 0:02:50.013845\n",
      "Epoch 044/100, Train Loss: 0.73690, Test Loss: 0.81689 | Acc: 0.7277, AUC: 0.9626, F1: 0.7311, Duration: 0:03:02.817088\n",
      "Epoch 045/100, Train Loss: 0.73554, Test Loss: 0.85169 | Acc: 0.7155, AUC: 0.9599, F1: 0.7191, Duration: 0:02:59.958037\n",
      "Epoch 046/100, Train Loss: 0.72897, Test Loss: 0.78397 | Acc: 0.7397, AUC: 0.9648, F1: 0.7413, Duration: 0:02:59.823037\n",
      "Epoch 047/100, Train Loss: 0.71746, Test Loss: 0.80632 | Acc: 0.7298, AUC: 0.9624, F1: 0.7316, Duration: 0:03:05.523587\n",
      "Epoch 048/100, Train Loss: 0.70850, Test Loss: 0.79513 | Acc: 0.7385, AUC: 0.9646, F1: 0.7422, Duration: 0:03:00.298734\n",
      "Epoch 049/100, Train Loss: 0.70072, Test Loss: 0.83123 | Acc: 0.7268, AUC: 0.9611, F1: 0.7307, Duration: 0:02:51.467014\n",
      "Epoch 050/100, Train Loss: 0.70322, Test Loss: 0.82765 | Acc: 0.7285, AUC: 0.9627, F1: 0.7324, Duration: 0:02:51.461726\n",
      "Epoch 051/100, Train Loss: 0.70917, Test Loss: 0.85488 | Acc: 0.7180, AUC: 0.9602, F1: 0.7209, Duration: 0:02:57.611376\n",
      "Epoch 052/100, Train Loss: 0.70541, Test Loss: 0.89719 | Acc: 0.7028, AUC: 0.9588, F1: 0.7062, Duration: 0:03:04.396051\n",
      "Epoch 053/100, Train Loss: 0.69352, Test Loss: 0.81428 | Acc: 0.7318, AUC: 0.9633, F1: 0.7365, Duration: 0:03:04.474766\n",
      "Epoch 054/100, Train Loss: 0.68030, Test Loss: 0.77965 | Acc: 0.7424, AUC: 0.9656, F1: 0.7446, Duration: 0:03:12.667852\n",
      "Epoch 055/100, Train Loss: 0.68081, Test Loss: 0.86905 | Acc: 0.7136, AUC: 0.9589, F1: 0.7167, Duration: 0:03:23.150205\n",
      "Epoch 056/100, Train Loss: 0.69033, Test Loss: 0.83940 | Acc: 0.7204, AUC: 0.9620, F1: 0.7252, Duration: 0:03:19.910436\n",
      "Epoch 057/100, Train Loss: 0.67837, Test Loss: 0.79759 | Acc: 0.7352, AUC: 0.9644, F1: 0.7373, Duration: 0:03:02.601277\n",
      "Epoch 058/100, Train Loss: 0.66834, Test Loss: 0.77969 | Acc: 0.7404, AUC: 0.9660, F1: 0.7422, Duration: 0:03:14.479975\n",
      "Epoch 059/100, Train Loss: 0.67014, Test Loss: 0.73996 | Acc: 0.7524, AUC: 0.9683, F1: 0.7544, Duration: 0:02:50.814540\n",
      "Epoch 060/100, Train Loss: 0.67289, Test Loss: 0.82411 | Acc: 0.7336, AUC: 0.9633, F1: 0.7348, Duration: 0:03:21.675910\n",
      "Epoch 061/100, Train Loss: 0.67588, Test Loss: 0.80297 | Acc: 0.7361, AUC: 0.9639, F1: 0.7382, Duration: 0:03:35.184527\n",
      "Epoch 062/100, Train Loss: 0.66663, Test Loss: 0.77150 | Acc: 0.7459, AUC: 0.9659, F1: 0.7490, Duration: 0:03:44.677220\n",
      "Epoch 063/100, Train Loss: 0.66048, Test Loss: 0.78537 | Acc: 0.7340, AUC: 0.9660, F1: 0.7330, Duration: 0:03:44.822607\n",
      "Epoch 064/100, Train Loss: 0.64686, Test Loss: 0.76874 | Acc: 0.7481, AUC: 0.9666, F1: 0.7509, Duration: 0:03:45.950029\n",
      "Epoch 065/100, Train Loss: 0.63957, Test Loss: 0.76223 | Acc: 0.7472, AUC: 0.9671, F1: 0.7513, Duration: 0:02:46.925805\n",
      "Epoch 066/100, Train Loss: 0.65263, Test Loss: 0.75074 | Acc: 0.7484, AUC: 0.9678, F1: 0.7484, Duration: 0:03:20.202952\n",
      "Epoch 067/100, Train Loss: 0.66351, Test Loss: 0.87877 | Acc: 0.7069, AUC: 0.9612, F1: 0.7074, Duration: 0:03:00.168457\n",
      "Epoch 068/100, Train Loss: 0.65777, Test Loss: 0.73147 | Acc: 0.7537, AUC: 0.9694, F1: 0.7546, Duration: 0:02:48.572926\n",
      "Epoch 069/100, Train Loss: 0.65142, Test Loss: 0.81173 | Acc: 0.7248, AUC: 0.9638, F1: 0.7258, Duration: 0:02:50.387581\n"
     ]
    },
    {
     "name": "stdout",
     "output_type": "stream",
     "text": [
      "Epoch 070/100, Train Loss: 0.64578, Test Loss: 0.78072 | Acc: 0.7473, AUC: 0.9668, F1: 0.7522, Duration: 0:03:03.846663\n",
      "Epoch 071/100, Train Loss: 0.64020, Test Loss: 0.76385 | Acc: 0.7447, AUC: 0.9667, F1: 0.7458, Duration: 0:02:45.199957\n",
      "Epoch 072/100, Train Loss: 0.63688, Test Loss: 0.74116 | Acc: 0.7533, AUC: 0.9687, F1: 0.7558, Duration: 0:02:48.527367\n",
      "Epoch 073/100, Train Loss: 0.62772, Test Loss: 0.74982 | Acc: 0.7558, AUC: 0.9676, F1: 0.7583, Duration: 0:03:09.971389\n",
      "Epoch 074/100, Train Loss: 0.62459, Test Loss: 0.78341 | Acc: 0.7365, AUC: 0.9660, F1: 0.7357, Duration: 0:03:47.786233\n",
      "Epoch 075/100, Train Loss: 0.63965, Test Loss: 0.86033 | Acc: 0.7138, AUC: 0.9613, F1: 0.7164, Duration: 0:03:42.705200\n",
      "Epoch 076/100, Train Loss: 0.63261, Test Loss: 0.75790 | Acc: 0.7485, AUC: 0.9674, F1: 0.7490, Duration: 0:02:51.197794\n",
      "Epoch 077/100, Train Loss: 0.63115, Test Loss: 0.71770 | Acc: 0.7606, AUC: 0.9705, F1: 0.7641, Duration: 0:02:59.678966\n",
      "Epoch 078/100, Train Loss: 0.64679, Test Loss: 0.74894 | Acc: 0.7516, AUC: 0.9674, F1: 0.7518, Duration: 0:02:50.767762\n",
      "Epoch 079/100, Train Loss: 0.61959, Test Loss: 0.73430 | Acc: 0.7583, AUC: 0.9691, F1: 0.7600, Duration: 0:03:13.702432\n",
      "Epoch 080/100, Train Loss: 0.61390, Test Loss: 0.73138 | Acc: 0.7543, AUC: 0.9696, F1: 0.7551, Duration: 0:03:04.559965\n",
      "Epoch 081/100, Train Loss: 0.60909, Test Loss: 0.71575 | Acc: 0.7595, AUC: 0.9702, F1: 0.7599, Duration: 0:03:21.470205\n",
      "Epoch 082/100, Train Loss: 0.60521, Test Loss: 0.78575 | Acc: 0.7399, AUC: 0.9662, F1: 0.7403, Duration: 0:02:50.063033\n",
      "Epoch 083/100, Train Loss: 0.61098, Test Loss: 0.75229 | Acc: 0.7517, AUC: 0.9689, F1: 0.7528, Duration: 0:02:59.196121\n",
      "Epoch 084/100, Train Loss: 0.59497, Test Loss: 0.73644 | Acc: 0.7515, AUC: 0.9701, F1: 0.7542, Duration: 0:03:02.109226\n",
      "Epoch 085/100, Train Loss: 0.59462, Test Loss: 0.80341 | Acc: 0.7301, AUC: 0.9664, F1: 0.7319, Duration: 0:03:00.520061\n",
      "Epoch 086/100, Train Loss: 0.59344, Test Loss: 0.73005 | Acc: 0.7556, AUC: 0.9702, F1: 0.7563, Duration: 0:02:46.938792\n",
      "Epoch 087/100, Train Loss: 0.60057, Test Loss: 0.74462 | Acc: 0.7514, AUC: 0.9690, F1: 0.7526, Duration: 0:02:49.831094\n",
      "Epoch 088/100, Train Loss: 0.60593, Test Loss: 0.78215 | Acc: 0.7339, AUC: 0.9673, F1: 0.7320, Duration: 0:03:32.942948\n",
      "Epoch 089/100, Train Loss: 0.60836, Test Loss: 0.71689 | Acc: 0.7666, AUC: 0.9703, F1: 0.7681, Duration: 0:04:00.209385\n",
      "Epoch 090/100, Train Loss: 0.60310, Test Loss: 0.76976 | Acc: 0.7471, AUC: 0.9672, F1: 0.7521, Duration: 0:03:39.349688\n",
      "Epoch 091/100, Train Loss: 0.60081, Test Loss: 0.76988 | Acc: 0.7431, AUC: 0.9674, F1: 0.7456, Duration: 0:03:50.600582\n",
      "Epoch 092/100, Train Loss: 0.60070, Test Loss: 0.76514 | Acc: 0.7440, AUC: 0.9674, F1: 0.7453, Duration: 0:03:39.313114\n",
      "Epoch 093/100, Train Loss: 0.60636, Test Loss: 0.71317 | Acc: 0.7602, AUC: 0.9706, F1: 0.7602, Duration: 0:03:43.209630\n",
      "Epoch 094/100, Train Loss: 0.60348, Test Loss: 0.72556 | Acc: 0.7592, AUC: 0.9702, F1: 0.7597, Duration: 0:03:41.922844\n",
      "Epoch 095/100, Train Loss: 0.58064, Test Loss: 0.72231 | Acc: 0.7611, AUC: 0.9710, F1: 0.7651, Duration: 0:03:24.720873\n",
      "Epoch 096/100, Train Loss: 0.58733, Test Loss: 0.71083 | Acc: 0.7656, AUC: 0.9705, F1: 0.7668, Duration: 0:03:13.444515\n",
      "Epoch 097/100, Train Loss: 0.58887, Test Loss: 0.72984 | Acc: 0.7552, AUC: 0.9694, F1: 0.7561, Duration: 0:03:14.198025\n",
      "Epoch 098/100, Train Loss: 0.60260, Test Loss: 0.80955 | Acc: 0.7328, AUC: 0.9648, F1: 0.7354, Duration: 0:03:25.725660\n",
      "Epoch 099/100, Train Loss: 0.60456, Test Loss: 0.75092 | Acc: 0.7556, AUC: 0.9688, F1: 0.7585, Duration: 0:03:21.912023\n",
      "Epoch 100/100, Train Loss: 0.59208, Test Loss: 0.77333 | Acc: 0.7469, AUC: 0.9677, F1: 0.7510, Duration: 0:03:21.142608\n",
      "\n",
      "Done (Fri, 2021-12-31 22:10 EET +0200) Elapsed time: 18775.9 seconds\n",
      "\n",
      "train_best_loss: 0.5873271375894547 test_best_loss: 0.7108302265405655 Acc: 0.7656 AUC: 0.9705156273938955 F1: 0.7668052848203212\n"
     ]
    }
   ],
   "source": [
    "GDType = \"stochastic\"\n",
    "Debug = False\n",
    "Epochs = int(100)\n",
    "PrintInfoEverynEpochs = 1\n",
    "scheduler = None #torch.optim.lr_scheduler.StepLR(optimiser, step_size = Epochs // 10 if Epochs > 10 else 3, gamma = 0.8)\n",
    "\n",
    "new_train_losses, new_test_losses, train_best_loss, test_best_loss, Metric1, Metric2, Metric3, elapsed_time = batch_gd(model, criterion, optimiser, scheduler, train_loader, test_loader, epochs = Epochs, PrintInfoEverynEpochs = PrintInfoEverynEpochs, Verbose = False)\n",
    "train_losses = np.append(train_losses, new_train_losses)\n",
    "test_losses = np.append(test_losses, new_test_losses)\n",
    "train_loss = train_losses[-1]\n",
    "test_loss = test_losses[-1]\n",
    "print(\"\\ntrain_best_loss:\", train_best_loss, \"test_best_loss:\", test_best_loss, \"Acc:\", Metric1, \"AUC:\", Metric2, \"F1:\", Metric3)\n",
    "torch.cuda.empty_cache()"
   ]
  },
  {
   "cell_type": "code",
   "execution_count": 32,
   "metadata": {},
   "outputs": [
    {
     "data": {
      "image/png": "[encoded data removed]",
      "text/plain": [
       "<Figure size 432x288 with 1 Axes>"
      ]
     },
     "metadata": {},
     "output_type": "display_data"
    }
   ],
   "source": [
    "plt.plot(train_losses, label = f\"Train Loss\")\n",
    "plt.plot(test_losses, label = f\"Validation Loss\", alpha = 0.90)\n",
    "plt.legend()\n",
    "plt.show()"
   ]
  },
  {
   "cell_type": "code",
   "execution_count": 33,
   "metadata": {},
   "outputs": [
    {
     "name": "stdout",
     "output_type": "stream",
     "text": [
      "Overall Acc: 74.69%. AUC: 0.97, F1: 0.75\n"
     ]
    },
    {
     "data": {
      "image/png": "[encoded data removed]",
      "text/plain": [
       "<Figure size 432x288 with 2 Axes>"
      ]
     },
     "metadata": {},
     "output_type": "display_data"
    }
   ],
   "source": [
    "test_batch_size = batch_size #We *can* have a larger batch size on evaluation as we don't need any extra RAM for gradients calculation\n",
    "\n",
    "model.eval() #Putting model in evaluation mode so that things like dropout() are deactivated\n",
    "with torch.no_grad(): #Making sure that we don't update the gradient outside the training part\n",
    "    model = model.to(device) #Moving the model to the appropriate device (CPU/CUDA/etc.)\n",
    "    \n",
    "    #Using the Forward direction of the model to get the Predictions (also returning the corresponding targets in case there's suffling and X_Test isn't indexed the same)\n",
    "    Preds_prob, Preds, targets = EvalPredict(model, test_batch_size, device, test_loader if \"test_loader\" in locals() or \"test_loader\" in globals() else X_Test, Y_Test if \"Y_Test\" in locals() or \"Y_Test\" in globals() else None)\n",
    "    \n",
    "    #Calculating evaluation metrics\n",
    "    test_Acc, test_AUC, test_F1 = GetCategoricalMetrics(Preds_prob, Preds, targets)\n",
    "    print(f'Overall Acc: {test_Acc * 100:.2f}%. AUC: {test_AUC:.2f}, F1: {test_F1:.2f}')\n",
    "    \n",
    "    #Plotting the confusion matrix\n",
    "    ConfusionMatrixDisplay(confusion_matrix(targets, Preds), display_labels = ClassNames).plot()\n",
    "    plt.show()"
   ]
  }
 ],
 "metadata": {
  "interpreter": {
   "hash": "5e05eb1679c7e5784fe88b7daf32af67794712809164a69199ae9e461c931344"
  },
  "kernelspec": {
   "display_name": "Python 3 (ipykernel)",
   "language": "python",
   "name": "python3"
  },
  "language_info": {
   "codemirror_mode": {
    "name": "ipython",
    "version": 3
   },
   "file_extension": ".py",
   "mimetype": "text/x-python",
   "name": "python",
   "nbconvert_exporter": "python",
   "pygments_lexer": "ipython3",
   "version": "3.8.8"
  }
 },
 "nbformat": 4,
 "nbformat_minor": 4
}
